{
 "cells": [
  {
   "cell_type": "markdown",
   "id": "a44a403b",
   "metadata": {
    "papermill": {
     "duration": 0.014332,
     "end_time": "2022-10-07T13:58:36.866212",
     "exception": false,
     "start_time": "2022-10-07T13:58:36.851880",
     "status": "completed"
    },
    "tags": []
   },
   "source": [
    "## Collect and Update Data on Reddit\n",
    "\n",
    "\n",
    "<img src=\"https://styles.redditmedia.com/t5_30hhs/styles/communityIcon_buhifseg1hm81.png\" width=300></img>\n",
    "\n",
    "There are 4 steps for this process:\n",
    "\n",
    "\n",
    "- Run the collection\n",
    "- Load the current data\n",
    "- Merge old (existent) data with currently collected\n",
    "- Save new version\n",
    "\n",
    "We schedule the collection to be run daily.\n",
    "\n",
    "In order to make this work, we also need to set the environment variables for Reddit application using the Kaggle feature that allows us to set secrets.\n"
   ]
  },
  {
   "cell_type": "markdown",
   "id": "f1c6274e",
   "metadata": {
    "papermill": {
     "duration": 0.012148,
     "end_time": "2022-10-07T13:58:36.892110",
     "exception": false,
     "start_time": "2022-10-07T13:58:36.879962",
     "status": "completed"
    },
    "tags": []
   },
   "source": [
    "# Load packages"
   ]
  },
  {
   "cell_type": "markdown",
   "id": "a83bc080",
   "metadata": {
    "papermill": {
     "duration": 0.013673,
     "end_time": "2022-10-07T13:58:36.918311",
     "exception": false,
     "start_time": "2022-10-07T13:58:36.904638",
     "status": "completed"
    },
    "tags": []
   },
   "source": [
    "## Install praw"
   ]
  },
  {
   "cell_type": "code",
   "execution_count": 1,
   "id": "cc572ff2",
   "metadata": {
    "execution": {
     "iopub.execute_input": "2022-10-07T13:58:36.948136Z",
     "iopub.status.busy": "2022-10-07T13:58:36.946926Z",
     "iopub.status.idle": "2022-10-07T13:58:48.746682Z",
     "shell.execute_reply": "2022-10-07T13:58:48.745838Z",
     "shell.execute_reply.started": "2022-03-23T10:24:05.657788Z"
    },
    "papermill": {
     "duration": 11.816034,
     "end_time": "2022-10-07T13:58:48.746868",
     "exception": false,
     "start_time": "2022-10-07T13:58:36.930834",
     "status": "completed"
    },
    "tags": []
   },
   "outputs": [
    {
     "name": "stdout",
     "output_type": "stream",
     "text": [
      "Collecting praw\r\n",
      "  Downloading praw-7.6.0-py3-none-any.whl (188 kB)\r\n",
      "     |████████████████████████████████| 188 kB 903 kB/s            \r\n",
      "\u001b[?25hRequirement already satisfied: update-checker>=0.18 in /opt/conda/lib/python3.7/site-packages (from praw) (0.18.0)\r\n",
      "Requirement already satisfied: websocket-client>=0.54.0 in /opt/conda/lib/python3.7/site-packages (from praw) (1.2.3)\r\n",
      "Collecting prawcore<3,>=2.1\r\n",
      "  Downloading prawcore-2.3.0-py3-none-any.whl (16 kB)\r\n",
      "Requirement already satisfied: requests<3.0,>=2.6.0 in /opt/conda/lib/python3.7/site-packages (from prawcore<3,>=2.1->praw) (2.26.0)\r\n",
      "Requirement already satisfied: charset-normalizer~=2.0.0 in /opt/conda/lib/python3.7/site-packages (from requests<3.0,>=2.6.0->prawcore<3,>=2.1->praw) (2.0.9)\r\n",
      "Requirement already satisfied: idna<4,>=2.5 in /opt/conda/lib/python3.7/site-packages (from requests<3.0,>=2.6.0->prawcore<3,>=2.1->praw) (3.1)\r\n",
      "Requirement already satisfied: urllib3<1.27,>=1.21.1 in /opt/conda/lib/python3.7/site-packages (from requests<3.0,>=2.6.0->prawcore<3,>=2.1->praw) (1.26.7)\r\n",
      "Requirement already satisfied: certifi>=2017.4.17 in /opt/conda/lib/python3.7/site-packages (from requests<3.0,>=2.6.0->prawcore<3,>=2.1->praw) (2021.10.8)\r\n",
      "Installing collected packages: prawcore, praw\r\n",
      "Successfully installed praw-7.6.0 prawcore-2.3.0\r\n",
      "\u001b[33mWARNING: Running pip as the 'root' user can result in broken permissions and conflicting behaviour with the system package manager. It is recommended to use a virtual environment instead: https://pip.pypa.io/warnings/venv\u001b[0m\r\n"
     ]
    }
   ],
   "source": [
    "!pip install praw"
   ]
  },
  {
   "cell_type": "markdown",
   "id": "93ec0c1e",
   "metadata": {
    "papermill": {
     "duration": 0.016034,
     "end_time": "2022-10-07T13:58:48.780332",
     "exception": false,
     "start_time": "2022-10-07T13:58:48.764298",
     "status": "completed"
    },
    "tags": []
   },
   "source": [
    "## Packages used"
   ]
  },
  {
   "cell_type": "code",
   "execution_count": 2,
   "id": "1fa18db3",
   "metadata": {
    "execution": {
     "iopub.execute_input": "2022-10-07T13:58:48.819940Z",
     "iopub.status.busy": "2022-10-07T13:58:48.819238Z",
     "iopub.status.idle": "2022-10-07T13:58:48.892007Z",
     "shell.execute_reply": "2022-10-07T13:58:48.891338Z",
     "shell.execute_reply.started": "2022-03-23T10:24:17.818454Z"
    },
    "papermill": {
     "duration": 0.095411,
     "end_time": "2022-10-07T13:58:48.892163",
     "exception": false,
     "start_time": "2022-10-07T13:58:48.796752",
     "status": "completed"
    },
    "tags": []
   },
   "outputs": [],
   "source": [
    "import os\n",
    "import praw\n",
    "import pandas as pd\n",
    "import datetime as dt\n",
    "from tqdm import tqdm\n",
    "import time"
   ]
  },
  {
   "cell_type": "markdown",
   "id": "3448209f",
   "metadata": {
    "papermill": {
     "duration": 0.015767,
     "end_time": "2022-10-07T13:58:48.924251",
     "exception": false,
     "start_time": "2022-10-07T13:58:48.908484",
     "status": "completed"
    },
    "tags": []
   },
   "source": [
    "## Environment settings for Reddit secrets\n",
    "\n",
    "Here is a simple tutorial about using secrets with Kaggle: [Feature Launch: User Secrets](https://www.kaggle.com/product-feedback/114053)"
   ]
  },
  {
   "cell_type": "code",
   "execution_count": 3,
   "id": "ef9855b4",
   "metadata": {
    "execution": {
     "iopub.execute_input": "2022-10-07T13:58:48.961425Z",
     "iopub.status.busy": "2022-10-07T13:58:48.960744Z",
     "iopub.status.idle": "2022-10-07T13:58:48.963710Z",
     "shell.execute_reply": "2022-10-07T13:58:48.963158Z",
     "shell.execute_reply.started": "2022-03-23T10:24:17.879623Z"
    },
    "papermill": {
     "duration": 0.023435,
     "end_time": "2022-10-07T13:58:48.963862",
     "exception": false,
     "start_time": "2022-10-07T13:58:48.940427",
     "status": "completed"
    },
    "tags": []
   },
   "outputs": [],
   "source": [
    "from kaggle_secrets import UserSecretsClient\n",
    "user_secrets = UserSecretsClient()"
   ]
  },
  {
   "cell_type": "markdown",
   "id": "df2331f1",
   "metadata": {
    "papermill": {
     "duration": 0.015783,
     "end_time": "2022-10-07T13:58:48.995812",
     "exception": false,
     "start_time": "2022-10-07T13:58:48.980029",
     "status": "completed"
    },
    "tags": []
   },
   "source": [
    "# Utility functions"
   ]
  },
  {
   "cell_type": "code",
   "execution_count": 4,
   "id": "109f156b",
   "metadata": {
    "execution": {
     "iopub.execute_input": "2022-10-07T13:58:49.036517Z",
     "iopub.status.busy": "2022-10-07T13:58:49.035852Z",
     "iopub.status.idle": "2022-10-07T13:58:49.039022Z",
     "shell.execute_reply": "2022-10-07T13:58:49.038469Z",
     "shell.execute_reply.started": "2022-03-23T10:24:17.885452Z"
    },
    "papermill": {
     "duration": 0.027177,
     "end_time": "2022-10-07T13:58:49.039179",
     "exception": false,
     "start_time": "2022-10-07T13:58:49.012002",
     "status": "completed"
    },
    "tags": []
   },
   "outputs": [],
   "source": [
    "def get_date(created):\n",
    "    return dt.datetime.fromtimestamp(created)\n",
    "\n",
    "\n",
    "def reddit_connection(environment=\"Kaggle\"):\n",
    "    \n",
    "    if environment == \"Kaggle\":\n",
    "        personal_use_script = user_secrets.get_secret(\"REDDIT_PERSONAL_USE_SCRIPT_14_CHARS\")\n",
    "        client_secret = user_secrets.get_secret(\"REDDIT_SECRET_KEY_27_CHARS\")\n",
    "        user_agent = user_secrets.get_secret(\"REDDIT_APP_NAME\")\n",
    "        username = user_secrets.get_secret(\"REDDIT_USER_NAME\")\n",
    "        password = user_secrets.get_secret(\"REDDIT_LOGIN_PASSWORD\")\n",
    "         \n",
    "    else: #local (Linux/Windows) environment\n",
    "        personal_use_script = os.environ[\"REDDIT_PERSONAL_USE_SCRIPT_14_CHARS\"]\n",
    "        client_secret = os.environ[\"REDDIT_SECRET_KEY_27_CHARS\"]\n",
    "        user_agent = os.environ[\"REDDIT_APP_NAME\"]\n",
    "        username = os.environ[\"REDDIT_USER_NAME\"]\n",
    "        password = os.environ[\"REDDIT_LOGIN_PASSWORD\"]\n",
    "\n",
    "    reddit = praw.Reddit(client_id=personal_use_script, \\\n",
    "                         client_secret=client_secret, \\\n",
    "                         user_agent=user_agent, \\\n",
    "                         username=username, \\\n",
    "                         password='')\n",
    "    return reddit\n"
   ]
  },
  {
   "cell_type": "markdown",
   "id": "5b63d01c",
   "metadata": {
    "papermill": {
     "duration": 0.015684,
     "end_time": "2022-10-07T13:58:49.071055",
     "exception": false,
     "start_time": "2022-10-07T13:58:49.055371",
     "status": "completed"
    },
    "tags": []
   },
   "source": [
    "# Build the dataset (daily update)"
   ]
  },
  {
   "cell_type": "code",
   "execution_count": 5,
   "id": "330ec686",
   "metadata": {
    "execution": {
     "iopub.execute_input": "2022-10-07T13:58:49.112575Z",
     "iopub.status.busy": "2022-10-07T13:58:49.111850Z",
     "iopub.status.idle": "2022-10-07T13:58:49.117128Z",
     "shell.execute_reply": "2022-10-07T13:58:49.117670Z",
     "shell.execute_reply.started": "2022-03-23T10:24:17.899914Z"
    },
    "papermill": {
     "duration": 0.030737,
     "end_time": "2022-10-07T13:58:49.117859",
     "exception": false,
     "start_time": "2022-10-07T13:58:49.087122",
     "status": "completed"
    },
    "tags": []
   },
   "outputs": [],
   "source": [
    "def build_dataset(reddit, search_words='UkrainianConflict', items_limit=4000):\n",
    "    \n",
    "    # Collect reddit posts\n",
    "    subreddit = reddit.subreddit(search_words)\n",
    "    new_subreddit = subreddit.new(limit=items_limit)\n",
    "    topics_dict = { \"title\":[],\n",
    "                \"score\":[],\n",
    "                \"id\":[], \"url\":[],\n",
    "                \"comms_num\": [],\n",
    "                \"created\": [],\n",
    "                \"body\":[]}\n",
    "    \n",
    "    print(f\"retreive new reddit posts ...\")\n",
    "    for submission in tqdm(new_subreddit):\n",
    "        topics_dict[\"title\"].append(submission.title)\n",
    "        topics_dict[\"score\"].append(submission.score)\n",
    "        topics_dict[\"id\"].append(submission.id)\n",
    "        topics_dict[\"url\"].append(submission.url)\n",
    "        topics_dict[\"comms_num\"].append(submission.num_comments)\n",
    "        topics_dict[\"created\"].append(submission.created)\n",
    "        topics_dict[\"body\"].append(submission.selftext)\n",
    "\n",
    "    for comment in tqdm(subreddit.comments(limit=4000)):\n",
    "        topics_dict[\"title\"].append(\"Comment\")\n",
    "        topics_dict[\"score\"].append(comment.score)\n",
    "        topics_dict[\"id\"].append(comment.id)\n",
    "        topics_dict[\"url\"].append(\"\")\n",
    "        topics_dict[\"comms_num\"].append(0)\n",
    "        topics_dict[\"created\"].append(comment.created)\n",
    "        topics_dict[\"body\"].append(comment.body)\n",
    "\n",
    "    topics_df = pd.DataFrame(topics_dict)\n",
    "    print(f\"new reddit posts retrieved: {len(topics_df)}\")\n",
    "    topics_df['timestamp'] = topics_df['created'].apply(lambda x: get_date(x))\n",
    "\n",
    "    return topics_df\n",
    "   "
   ]
  },
  {
   "cell_type": "markdown",
   "id": "58c32cd3",
   "metadata": {
    "papermill": {
     "duration": 0.016592,
     "end_time": "2022-10-07T13:58:49.152112",
     "exception": false,
     "start_time": "2022-10-07T13:58:49.135520",
     "status": "completed"
    },
    "tags": []
   },
   "source": [
    "# Update and save dataset\n",
    "\n",
    "We perform the following actions:  \n",
    "* Load old dataset  \n",
    "* Merge the two datasets  \n",
    "* Save the merged data"
   ]
  },
  {
   "cell_type": "code",
   "execution_count": 6,
   "id": "7db5e1a8",
   "metadata": {
    "execution": {
     "iopub.execute_input": "2022-10-07T13:58:49.189213Z",
     "iopub.status.busy": "2022-10-07T13:58:49.188481Z",
     "iopub.status.idle": "2022-10-07T13:58:49.194882Z",
     "shell.execute_reply": "2022-10-07T13:58:49.195464Z",
     "shell.execute_reply.started": "2022-03-23T10:24:17.915031Z"
    },
    "papermill": {
     "duration": 0.026691,
     "end_time": "2022-10-07T13:58:49.195662",
     "exception": false,
     "start_time": "2022-10-07T13:58:49.168971",
     "status": "completed"
    },
    "tags": []
   },
   "outputs": [],
   "source": [
    "def update_and_save_dataset(topics_df):   \n",
    "    file_path = \"../input/russian-invasion-of-ukraine/russian_invasion_of_ukraine.csv\"\n",
    "    out_file_path = \"russian_invasion_of_ukraine.csv\"\n",
    "    if os.path.exists(file_path):\n",
    "        topics_old_df = pd.read_csv(file_path)\n",
    "        print(f\"past reddit posts: {topics_old_df.shape}\")\n",
    "        topics_all_df = pd.concat([topics_old_df, topics_df], axis=0)\n",
    "        print(f\"new reddit posts: {topics_df.shape[0]} past posts: {topics_old_df.shape[0]} all posts: {topics_all_df.shape[0]}\")\n",
    "        topics_new_df = topics_all_df.drop_duplicates(subset = [\"id\"], keep='last', inplace=False)\n",
    "        print(f\"all reddit posts: {topics_new_df.shape}\")\n",
    "        topics_new_df.to_csv(out_file_path, index=False)\n",
    "    else:\n",
    "        print(f\"reddit posts: {topics_df.shape}\")\n",
    "        topics_df.to_csv(out_file_path, index=False)"
   ]
  },
  {
   "cell_type": "markdown",
   "id": "44a7890f",
   "metadata": {
    "papermill": {
     "duration": 0.015995,
     "end_time": "2022-10-07T13:58:49.228130",
     "exception": false,
     "start_time": "2022-10-07T13:58:49.212135",
     "status": "completed"
    },
    "tags": []
   },
   "source": [
    "# Run it all\n",
    "\n",
    "We perform the following actions:  \n",
    "* Initialize connection  \n",
    "* Build the dataset  \n",
    "* Update and save the dataset\n"
   ]
  },
  {
   "cell_type": "code",
   "execution_count": 7,
   "id": "9ad296ee",
   "metadata": {
    "execution": {
     "iopub.execute_input": "2022-10-07T13:58:49.264104Z",
     "iopub.status.busy": "2022-10-07T13:58:49.263391Z",
     "iopub.status.idle": "2022-10-07T13:59:11.722025Z",
     "shell.execute_reply": "2022-10-07T13:59:11.721433Z",
     "shell.execute_reply.started": "2022-03-23T10:24:17.93272Z"
    },
    "papermill": {
     "duration": 22.477678,
     "end_time": "2022-10-07T13:59:11.722176",
     "exception": false,
     "start_time": "2022-10-07T13:58:49.244498",
     "status": "completed"
    },
    "tags": []
   },
   "outputs": [
    {
     "name": "stdout",
     "output_type": "stream",
     "text": [
      "retreive new reddit posts ...\n"
     ]
    },
    {
     "name": "stderr",
     "output_type": "stream",
     "text": [
      "990it [00:09, 99.51it/s] \n",
      "992it [00:06, 151.93it/s]\n"
     ]
    },
    {
     "name": "stdout",
     "output_type": "stream",
     "text": [
      "new reddit posts retrieved: 1982\n"
     ]
    },
    {
     "name": "stderr",
     "output_type": "stream",
     "text": [
      "/opt/conda/lib/python3.7/site-packages/ipykernel_launcher.py:3: DtypeWarning: Columns (1) have mixed types.Specify dtype option on import or set low_memory=False.\n",
      "  This is separate from the ipykernel package so we can avoid doing imports until\n"
     ]
    },
    {
     "name": "stdout",
     "output_type": "stream",
     "text": [
      "past reddit posts: (252356, 8)\n",
      "new reddit posts: 1982 past posts: 252356 all posts: 254338\n",
      "all reddit posts: (253494, 8)\n"
     ]
    }
   ],
   "source": [
    "reddit = reddit_connection()\n",
    "topics_data_df = build_dataset(reddit)\n",
    "update_and_save_dataset(topics_data_df)"
   ]
  }
 ],
 "metadata": {
  "kernelspec": {
   "display_name": "Python 3",
   "language": "python",
   "name": "python3"
  },
  "language_info": {
   "codemirror_mode": {
    "name": "ipython",
    "version": 3
   },
   "file_extension": ".py",
   "mimetype": "text/x-python",
   "name": "python",
   "nbconvert_exporter": "python",
   "pygments_lexer": "ipython3",
   "version": "3.7.12"
  },
  "papermill": {
   "default_parameters": {},
   "duration": 45.485262,
   "end_time": "2022-10-07T13:59:12.460959",
   "environment_variables": {},
   "exception": null,
   "input_path": "__notebook__.ipynb",
   "output_path": "__notebook__.ipynb",
   "parameters": {},
   "start_time": "2022-10-07T13:58:26.975697",
   "version": "2.3.3"
  }
 },
 "nbformat": 4,
 "nbformat_minor": 5
}
